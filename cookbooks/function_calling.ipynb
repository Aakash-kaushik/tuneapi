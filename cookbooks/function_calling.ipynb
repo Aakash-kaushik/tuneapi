{
 "cells": [
  {
   "cell_type": "code",
   "execution_count": 1,
   "metadata": {},
   "outputs": [],
   "source": [
    "import tuneapi.types as tt\n",
    "import tuneapi.utils as tu\n",
    "import tuneapi.apis as ta"
   ]
  },
  {
   "cell_type": "code",
   "execution_count": 2,
   "metadata": {},
   "outputs": [
    {
     "data": {
      "text/plain": [
       "<Tool: find_movies>"
      ]
     },
     "execution_count": 2,
     "metadata": {},
     "output_type": "execute_result"
    }
   ],
   "source": [
    "# define a simple tool\n",
    "find_movies_tool = tt.Tool(\n",
    "    \"find_movies\",\n",
    "    \"find movie titles currently playing in theaters based on any description, genre, title words, etc.\",\n",
    "    parameters=[\n",
    "        tt.Tool.Prop(\n",
    "            \"location\",\n",
    "            \"The city and state, e.g. San Francisco, CA or a zip code e.g. 95616\",\n",
    "            \"string\",\n",
    "        ),\n",
    "        tt.Tool.Prop(\n",
    "            \"description\",\n",
    "            \"Any kind of description including category or genre, title words, attributes, etc.\",\n",
    "            \"string\",\n",
    "            required=True,\n",
    "        ),\n",
    "    ],\n",
    ")\n",
    "find_movies_tool"
   ]
  },
  {
   "cell_type": "code",
   "execution_count": 3,
   "metadata": {},
   "outputs": [
    {
     "data": {
      "text/plain": [
       "<Tool: find_theaters>"
      ]
     },
     "execution_count": 3,
     "metadata": {},
     "output_type": "execute_result"
    }
   ],
   "source": [
    "# load existing from dictionaries\n",
    "find_theatre = tt.Tool.from_dict({\n",
    "    \"name\": \"find_theaters\",\n",
    "    \"description\": \"find theaters based on location and optionally movie title which is currently playing in theaters\",\n",
    "    \"parameters\": {\n",
    "    \"type\": \"object\",\n",
    "    \"properties\": {\n",
    "        \"location\": {\n",
    "        \"type\": \"string\",\n",
    "        \"description\": \"The city and state, e.g. San Francisco, CA or a zip code e.g. 95616\"\n",
    "        },\n",
    "        \"movie\": {\n",
    "        \"type\": \"string\",\n",
    "        \"description\": \"Any movie title\"\n",
    "        }\n",
    "    },\n",
    "    \"required\": [\n",
    "        \"location\"\n",
    "    ]\n",
    "    }\n",
    "})\n",
    "find_theatre"
   ]
  },
  {
   "cell_type": "code",
   "execution_count": 10,
   "metadata": {},
   "outputs": [
    {
     "data": {
      "text/plain": [
       "<Thread \n",
       "  <system: \"You are Tune Blob, a super star AI movie buff!\">\n",
       "  <human: \"What movies are showing in Chennai tonight?\">\n",
       "  <tools: ['find_movies', 'find_theaters', 'get_showtimes']>\n",
       ">"
      ]
     },
     "execution_count": 10,
     "metadata": {},
     "output_type": "execute_result"
    }
   ],
   "source": [
    "# create a thread, keep adding messages like a list\n",
    "thread = tt.Thread(\n",
    "    tt.system(\"You are Tune Blob, a super star AI movie buff!\"),\n",
    "    tt.human(\"What movies are showing in Chennai tonight?\"),\n",
    "    tools = [\n",
    "        find_movies_tool,\n",
    "        find_theatre,\n",
    "        tt.Tool(\n",
    "            name = \"get_showtimes\",\n",
    "            description = \"Find the start times for movies playing in a specific theater\",\n",
    "            parameters = [\n",
    "                tt.Tool.Prop(\n",
    "                    name = \"location\",\n",
    "                    description = \"The city and state, e.g. San Francisco, CA or a zip code e.g. 95616\",\n",
    "                    type = \"string\",\n",
    "                    required = True\n",
    "                ),\n",
    "                tt.Tool.Prop(\n",
    "                    name = \"movie\",\n",
    "                    description = \"Any movie title\",\n",
    "                    type = \"string\",\n",
    "                    required = True\n",
    "                ),\n",
    "                tt.Tool.Prop(\n",
    "                    name = \"theater\",\n",
    "                    description = \"Name of the theater\",\n",
    "                    type = \"string\",\n",
    "                    required = True\n",
    "                ),\n",
    "                tt.Tool.Prop(\n",
    "                    name = \"date\",\n",
    "                    description = \"Date for requested showtime\",\n",
    "                    type = \"string\",\n",
    "                    required = True\n",
    "                )\n",
    "            ]\n",
    "        )\n",
    "    ]\n",
    ")\n",
    "thread"
   ]
  },
  {
   "cell_type": "code",
   "execution_count": 11,
   "metadata": {},
   "outputs": [
    {
     "name": "stdout",
     "output_type": "stream",
     "text": [
      "{'name': 'find_movies', 'arguments': {'location': 'Chennai', 'description': 'currently playing'}}\n"
     ]
    }
   ],
   "source": [
    "# connect to a model from Tune Studio\n",
    "\n",
    "# model = ta.TuneModel(\n",
    "#     \"yash/yash-gpt-4o\",\n",
    "#     org_id = \"e41f60a3-06c9-4133-bc6d-127bc6f3f215\"\n",
    "# )\n",
    "\n",
    "# or connect to few that have first class support\n",
    "model = ta.Openai()\n",
    "out = model.chat(thread)\n",
    "print(out)"
   ]
  },
  {
   "cell_type": "code",
   "execution_count": 12,
   "metadata": {},
   "outputs": [
    {
     "data": {
      "text/plain": [
       "<Thread \n",
       "  <system: \"You are Tune Blob, a super star AI movie buff!\">\n",
       "  <human: \"What movies are showing in Chennai tonight?\">\n",
       "  <function_call: {\"name\": \"find_movies\", \"arguments\": {\"location\": >\n",
       "  <tools: ['find_movies', 'find_theaters', 'get_showtimes']>\n",
       ">"
      ]
     },
     "execution_count": 12,
     "metadata": {},
     "output_type": "execute_result"
    }
   ],
   "source": [
    "# continue the thread\n",
    "thread.append(\n",
    "    tt.function_call(out)\n",
    ")\n",
    "thread"
   ]
  },
  {
   "cell_type": "code",
   "execution_count": 13,
   "metadata": {},
   "outputs": [
    {
     "data": {
      "text/plain": [
       "<Thread \n",
       "  <system: \"You are Tune Blob, a super star AI movie buff!\">\n",
       "  <human: \"What movies are showing in Chennai tonight?\">\n",
       "  <function_call: {\"name\": \"find_movies\", \"arguments\": {\"location\": >\n",
       "  <function_resp: {\"movie\": \"Barbie\", \"theaters\": [{\"name\": \"AMC Mou>\n",
       "  <tools: ['find_movies', 'find_theaters', 'get_showtimes']>\n",
       ">"
      ]
     },
     "execution_count": 13,
     "metadata": {},
     "output_type": "execute_result"
    }
   ],
   "source": [
    "# now attach a simple output after running the `find_movies` function\n",
    "thread.append(tt.function_resp({\n",
    "    \"movie\": \"Barbie\",\n",
    "    \"theaters\": [\n",
    "        {\n",
    "            \"name\": \"AMC Mountain View 16\",\n",
    "            \"address\": \"2000 W El Camino Real, Mountain View, CA 94040\"\n",
    "        }, {\n",
    "            \"name\": \"Regal Edwards 14\",\n",
    "            \"address\": \"245 Castro St, Mountain View, CA 94040\"\n",
    "        }\n",
    "    ]\n",
    "}))\n",
    "thread"
   ]
  },
  {
   "cell_type": "code",
   "execution_count": 16,
   "metadata": {},
   "outputs": [
    {
     "name": "stdout",
     "output_type": "stream",
     "text": [
      "Tonight in Chennai, \"Barbie\" is showing in the following theaters:\n",
      "\n",
      "1. **AMC Mountain View 16**\n",
      "   - Address: 2000 W El Camino Real, Mountain View, CA 94040\n",
      "\n",
      "2. **Regal Edwards 14**\n",
      "   - Address: 245 Castro St, Mountain View, CA 94040\n"
     ]
    }
   ],
   "source": [
    "# continue the conversation to get response from the model\n",
    "out = model.chat(thread)\n",
    "print(out)"
   ]
  },
  {
   "cell_type": "markdown",
   "metadata": {},
   "source": [
    "If you find that the response above is incorrect that is most likely because of the model."
   ]
  },
  {
   "cell_type": "markdown",
   "metadata": {},
   "source": []
  }
 ],
 "metadata": {
  "kernelspec": {
   "display_name": "Python 3",
   "language": "python",
   "name": "python3"
  },
  "language_info": {
   "codemirror_mode": {
    "name": "ipython",
    "version": 3
   },
   "file_extension": ".py",
   "mimetype": "text/x-python",
   "name": "python",
   "nbconvert_exporter": "python",
   "pygments_lexer": "ipython3",
   "version": "3.11.7"
  }
 },
 "nbformat": 4,
 "nbformat_minor": 2
}
